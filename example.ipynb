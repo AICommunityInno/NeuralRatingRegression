{
 "cells": [
  {
   "cell_type": "code",
   "execution_count": 1,
   "metadata": {},
   "outputs": [],
   "source": [
    "from src.model import Model\n",
    "from src.trainer import Trainer\n",
    "from src.data_reader import amazon_dataset_iters\n",
    "from src.beam_search import Beam\n",
    "\n",
    "import pickle  # DEBUG\n",
    "import torch\n",
    "import numpy as np\n",
    "\n",
    "import warnings\n",
    "warnings.filterwarnings('ignore')\n",
    "\n",
    "import os"
   ]
  },
  {
   "cell_type": "code",
   "execution_count": 2,
   "metadata": {},
   "outputs": [
    {
     "data": {
      "text/plain": [
       "'2'"
      ]
     },
     "execution_count": 2,
     "metadata": {},
     "output_type": "execute_result"
    }
   ],
   "source": [
    "os.environ.setdefault('CUDA_VISIBLE_DEVICES', '2')"
   ]
  },
  {
   "cell_type": "markdown",
   "metadata": {},
   "source": [
    "Let's load a dataset."
   ]
  },
  {
   "cell_type": "code",
   "execution_count": 3,
   "metadata": {},
   "outputs": [
    {
     "name": "stdout",
     "output_type": "stream",
     "text": [
      "Loading datasets...\n",
      "datasets loaded\n",
      "item vocab built\n",
      "user vocab built\n",
      "text vocab built\n",
      "tips vocab built\n"
     ]
    }
   ],
   "source": [
    "text_vocab, tips_vocab, train_iter, val_iter, test_iter = (\n",
    "    amazon_dataset_iters('./data/average_dataset/', device=None)\n",
    ")"
   ]
  },
  {
   "cell_type": "code",
   "execution_count": 4,
   "metadata": {},
   "outputs": [
    {
     "data": {
      "text/plain": [
       "(11, 936)"
      ]
     },
     "execution_count": 4,
     "metadata": {},
     "output_type": "execute_result"
    }
   ],
   "source": [
    "items_count = int(max([i.item.max().cpu().data.numpy() for i in train_iter] +\n",
    "                      [i.item.max().cpu().data.numpy() for i in test_iter])[0])\n",
    "users_count = int(max([i.user.max().cpu().data.numpy() for i in train_iter] +\n",
    "                              [i.user.max().cpu().data.numpy() for i in test_iter])[0])\n",
    "items_count, users_count"
   ]
  },
  {
   "cell_type": "markdown",
   "metadata": {},
   "source": [
    "Creating the model."
   ]
  },
  {
   "cell_type": "code",
   "execution_count": 91,
   "metadata": {},
   "outputs": [],
   "source": [
    "model = Model(vocabulary_size=len(text_vocab.itos),\n",
    "              items_count=items_count+10,\n",
    "              users_count=users_count+10,\n",
    "              context_size=50,\n",
    "              hidden_size=50,\n",
    "              user_latent_factors_count=50,\n",
    "              item_latent_factors_count=50).cuda()"
   ]
  },
  {
   "cell_type": "code",
   "execution_count": 92,
   "metadata": {
    "collapsed": true
   },
   "outputs": [],
   "source": [
    "trainer = Trainer(model)"
   ]
  },
  {
   "cell_type": "markdown",
   "metadata": {},
   "source": [
    "Start training."
   ]
  },
  {
   "cell_type": "code",
   "execution_count": 134,
   "metadata": {},
   "outputs": [
    {
     "name": "stderr",
     "output_type": "stream",
     "text": [
      "Epochs: 0 / 1, Loss: inf: 100%|██████████| 32/32 [00:03<00:00,  8.84it/s]\n"
     ]
    }
   ],
   "source": [
    "history = trainer.train(train_iter, n_epochs=1)"
   ]
  },
  {
   "cell_type": "markdown",
   "metadata": {},
   "source": [
    "Let's decode the outputs."
   ]
  },
  {
   "cell_type": "code",
   "execution_count": 135,
   "metadata": {},
   "outputs": [],
   "source": [
    "batch_sample = next(iter(train_iter))"
   ]
  },
  {
   "cell_type": "code",
   "execution_count": 155,
   "metadata": {},
   "outputs": [],
   "source": [
    "batch_predict_sample = model.forward(batch_sample.user, batch_sample.item)"
   ]
  },
  {
   "cell_type": "code",
   "execution_count": 156,
   "metadata": {},
   "outputs": [],
   "source": [
    "beam_size = 22\n",
    "beam = Beam(beam_size, text_vocab.stoi, cuda=True)"
   ]
  },
  {
   "cell_type": "code",
   "execution_count": 157,
   "metadata": {},
   "outputs": [],
   "source": [
    "for i in range(5):\n",
    "    beam.advance(torch.exp(batch_predict_sample[2][2, :, :]).data)"
   ]
  },
  {
   "cell_type": "code",
   "execution_count": 158,
   "metadata": {},
   "outputs": [],
   "source": [
    "results = np.array([beam.get_hyp(i) for i in range(beam_size)])"
   ]
  },
  {
   "cell_type": "code",
   "execution_count": 159,
   "metadata": {},
   "outputs": [],
   "source": [
    "n_best = 60\n",
    "scores, ks = beam.sort_best()\n",
    "hyps = list(zip(*[beam.get_hyp(k) for k in ks[:n_best]]))"
   ]
  },
  {
   "cell_type": "code",
   "execution_count": 160,
   "metadata": {},
   "outputs": [
    {
     "name": "stdout",
     "output_type": "stream",
     "text": [
      "$start\t$start\t$start\t$start\t$start\n",
      "$start\t$start\t$start\tto\t<pad>\n",
      "$start\t$start\t$start\t$start\ta\n",
      "$start\t$start\t$start\t$start\t<unk>\n",
      "$start\t$start\t$start\t$start\tthe\n",
      "$start\t$start\t$start\t$start\t$end\n",
      "$start\t$start\t$start\t$start\t<pad>\n",
      "$start\t$start\t$start\t$start\tgreat\n",
      "$start\t$start\t$start\t$start\tof\n",
      "$start\t$start\t$start\t$start\tthis\n",
      "$start\t$start\t$start\tbest\t<pad>\n",
      "$start\t$start\t$start\t$start\t,\n",
      "$start\t$start\t$start\t$start\tclassic\n",
      "$start\t$start\t$start\t$start\tit\n",
      "$start\t$start\t$start\t$start\tan\n",
      "$start\t$start\t$start\t$start\tnot\n",
      "$start\t$start\t$start\t$start\tchristmas\n",
      "$start\t$start\t$start\t$start\tmovie\n",
      "$start\t$start\t$start\t$start\t!\n",
      "$start\t$start\t$start\t$start\t-\n",
      "$start\t$start\t$start\t$start\tbest\n",
      "$start\t$start\t$start\t$start\tto\n"
     ]
    }
   ],
   "source": [
    "print('\\n'.join('\\t'.join(text_vocab.itos[i] if i < len(text_vocab.itos) else '<!>' \n",
    "                         for i in results[k])\n",
    "                for k in range(22)\n",
    "               ))"
   ]
  },
  {
   "cell_type": "code",
   "execution_count": null,
   "metadata": {
    "collapsed": true
   },
   "outputs": [],
   "source": []
  },
  {
   "cell_type": "code",
   "execution_count": null,
   "metadata": {
    "collapsed": true
   },
   "outputs": [],
   "source": []
  }
 ],
 "metadata": {
  "kernelspec": {
   "display_name": "Python 3",
   "language": "python",
   "name": "python3"
  },
  "language_info": {
   "codemirror_mode": {
    "name": "ipython",
    "version": 3
   },
   "file_extension": ".py",
   "mimetype": "text/x-python",
   "name": "python",
   "nbconvert_exporter": "python",
   "pygments_lexer": "ipython3",
   "version": "3.6.1"
  }
 },
 "nbformat": 4,
 "nbformat_minor": 1
}
